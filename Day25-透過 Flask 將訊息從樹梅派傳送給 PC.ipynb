{
 "cells": [
  {
   "cell_type": "code",
   "execution_count": 2,
   "metadata": {},
   "outputs": [
    {
     "name": "stdout",
     "output_type": "stream",
     "text": [
      "OK\n",
      "hello, Here is June\n"
     ]
    }
   ],
   "source": [
    "import requests\n",
    "r = requests.get('http://192.168.0.5:8080/')\n",
    "if r.status_code == requests.codes.ok:\n",
    "    print(\"OK\")    \n",
    "print(r.text)"
   ]
  },
  {
   "cell_type": "markdown",
   "metadata": {},
   "source": [
    "<請參閱「在樹梅派上建立基於 Flask 的 Web API」>\n",
    "### Q:請思考在程序中，@app.route(\"/\")以及下方的def hello()：有什麼樣的關係？"
   ]
  },
  {
   "cell_type": "markdown",
   "metadata": {},
   "source": [
    "A:@app.route(\"/\")是在創造出這個ip底下其根目錄的網址。def hello()則表示只要於區域往內的使用者，訪問該網址就會執行該函數。\n"
   ]
  },
  {
   "cell_type": "code",
   "execution_count": null,
   "metadata": {},
   "outputs": [],
   "source": []
  }
 ],
 "metadata": {
  "kernelspec": {
   "display_name": "Python 3",
   "language": "python",
   "name": "python3"
  },
  "language_info": {
   "codemirror_mode": {
    "name": "ipython",
    "version": 3
   },
   "file_extension": ".py",
   "mimetype": "text/x-python",
   "name": "python",
   "nbconvert_exporter": "python",
   "pygments_lexer": "ipython3",
   "version": "3.7.4"
  }
 },
 "nbformat": 4,
 "nbformat_minor": 2
}
