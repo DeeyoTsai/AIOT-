{
 "cells": [
  {
   "cell_type": "code",
   "execution_count": 1,
   "metadata": {},
   "outputs": [],
   "source": [
    "import os, requests, uuid, json\n",
    "\n",
    "# Don't forget to replace with your Cog Services subscription key!\n",
    "# If you prefer to use environment variables, see Extra Credit for more info.\n",
    "subscription_key = 'YOUR_TRANSLATOR_TEXT_SUBSCRIPTION_KEY'\n",
    "\n",
    "# Don't forget to replace with your Cog Services location!\n",
    "# Our Flask route will supply two arguments: text_input and language_output.\n",
    "# When the translate text button is pressed in our Flask app, the Ajax request\n",
    "# will grab these values from our web app, and use them in the request.\n",
    "# See main.js for Ajax calls.\n",
    "def get_translation(text_input, language_output):\n",
    "    base_url = 'https://api.cognitive.microsofttranslator.com'\n",
    "    path = '/translate?api-version=3.0'\n",
    "    params = '&to=' + language_output\n",
    "    constructed_url = base_url + path + params\n",
    "\n",
    "    headers = {\n",
    "        'Ocp-Apim-Subscription-Key': subscription_key,\n",
    "        'Ocp-Apim-Subscription-Region': 'location',\n",
    "        'Content-type': 'application/json',\n",
    "        'X-ClientTraceId': str(uuid.uuid4())\n",
    "    }\n",
    "\n",
    "    # You can pass more than one object in body.\n",
    "    body = [{\n",
    "        'text' : text_input\n",
    "    }]\n",
    "    response = requests.post(constructed_url, headers=headers, json=body)\n",
    "    return response.json()"
   ]
  },
  {
   "cell_type": "code",
   "execution_count": 2,
   "metadata": {},
   "outputs": [
    {
     "ename": "ModuleNotFoundError",
     "evalue": "No module named 'translate'",
     "output_type": "error",
     "traceback": [
      "\u001b[1;31m---------------------------------------------------------------------------\u001b[0m",
      "\u001b[1;31mModuleNotFoundError\u001b[0m                       Traceback (most recent call last)",
      "\u001b[1;32m<ipython-input-2-e7a4315427c8>\u001b[0m in \u001b[0;36m<module>\u001b[1;34m\u001b[0m\n\u001b[1;32m----> 1\u001b[1;33m \u001b[1;32mimport\u001b[0m \u001b[0mtranslate\u001b[0m\u001b[1;33m\u001b[0m\u001b[1;33m\u001b[0m\u001b[0m\n\u001b[0m",
      "\u001b[1;31mModuleNotFoundError\u001b[0m: No module named 'translate'"
     ]
    }
   ],
   "source": [
    "import translate"
   ]
  },
  {
   "cell_type": "code",
   "execution_count": null,
   "metadata": {},
   "outputs": [],
   "source": []
  }
 ],
 "metadata": {
  "kernelspec": {
   "display_name": "Python 3",
   "language": "python",
   "name": "python3"
  },
  "language_info": {
   "codemirror_mode": {
    "name": "ipython",
    "version": 3
   },
   "file_extension": ".py",
   "mimetype": "text/x-python",
   "name": "python",
   "nbconvert_exporter": "python",
   "pygments_lexer": "ipython3",
   "version": "3.7.4"
  }
 },
 "nbformat": 4,
 "nbformat_minor": 2
}
