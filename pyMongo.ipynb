{
 "cells": [
  {
   "cell_type": "code",
   "execution_count": 1,
   "metadata": {},
   "outputs": [],
   "source": [
    "from pymongo import MongoClient"
   ]
  },
  {
   "cell_type": "code",
   "execution_count": 2,
   "metadata": {},
   "outputs": [],
   "source": [
    "client = MongoClient(host='127.0.0.1', port = 27017)"
   ]
  },
  {
   "cell_type": "code",
   "execution_count": 3,
   "metadata": {},
   "outputs": [
    {
     "data": {
      "text/plain": [
       "Collection(Database(MongoClient(host=['127.0.0.1:27017'], document_class=dict, tz_aware=False, connect=True), 'aiot'), 'member')"
      ]
     },
     "execution_count": 3,
     "metadata": {},
     "output_type": "execute_result"
    }
   ],
   "source": [
    "db = client['aiot']\n",
    "collection = db['member']\n",
    "collection"
   ]
  },
  {
   "cell_type": "code",
   "execution_count": 4,
   "metadata": {},
   "outputs": [],
   "source": [
    "data_list = [\n",
    "    {'name':'Chin-yu','phone':'0928778120','email':'chin_yu@gmail.com'},\n",
    "    {'name':'Mimi','phone':'0904131313','email':'mimi@gmail.com'},\n",
    "    {'name':'deeyo','phone':'0955944431','email':'deeyo@gmail.com'}\n",
    "]"
   ]
  },
  {
   "cell_type": "code",
   "execution_count": 5,
   "metadata": {},
   "outputs": [
    {
     "data": {
      "text/plain": [
       "<pymongo.results.InsertManyResult at 0x167cd8b4c08>"
      ]
     },
     "execution_count": 5,
     "metadata": {},
     "output_type": "execute_result"
    }
   ],
   "source": [
    "result = collection.insert_many(data_list)\n",
    "result"
   ]
  },
  {
   "cell_type": "code",
   "execution_count": null,
   "metadata": {},
   "outputs": [
    {
     "name": "stdout",
     "output_type": "stream",
     "text": [
      " * Serving Flask app \"__main__\" (lazy loading)\n",
      " * Environment: production\n",
      "   WARNING: This is a development server. Do not use it in a production deployment.\n",
      "   Use a production WSGI server instead.\n",
      " * Debug mode: off\n"
     ]
    },
    {
     "name": "stderr",
     "output_type": "stream",
     "text": [
      " * Running on http://127.0.0.1:5000/ (Press CTRL+C to quit)\n",
      "127.0.0.1 - - [24/Jan/2021 00:06:02] \"\u001b[37mPUT /members/600c492d856e3bf56c993f22 HTTP/1.1\u001b[0m\" 200 -\n",
      "127.0.0.1 - - [24/Jan/2021 00:17:46] \"\u001b[33mPOST /members/ HTTP/1.1\u001b[0m\" 404 -\n",
      "127.0.0.1 - - [24/Jan/2021 00:17:49] \"\u001b[37mPOST /members HTTP/1.1\u001b[0m\" 200 -\n",
      "127.0.0.1 - - [24/Jan/2021 00:20:32] \"\u001b[37mGET /members HTTP/1.1\u001b[0m\" 200 -\n",
      "127.0.0.1 - - [24/Jan/2021 00:21:34] \"\u001b[37mGET /members/600c4bd7aa196e9be9c58518 HTTP/1.1\u001b[0m\" 200 -\n",
      "127.0.0.1 - - [24/Jan/2021 00:23:10] \"\u001b[37mPUT /members/600c4bd7aa196e9be9c58518 HTTP/1.1\u001b[0m\" 200 -\n",
      "127.0.0.1 - - [24/Jan/2021 00:24:58] \"\u001b[37mDELETE /members/600c4c2d856e3bf56c993f25 HTTP/1.1\u001b[0m\" 200 -\n"
     ]
    }
   ],
   "source": [
    "from flask import Flask,request,jsonify\n",
    "from flask_pymongo import PyMongo\n",
    "from bson.objectid import ObjectId\n",
    "\n",
    "app = Flask(__name__)\n",
    "app.config['MONGO_URI'] = \"mongodb://localhost:27017/aiot\"  #資料庫address\n",
    "mongo = PyMongo(app)\n",
    "\n",
    "#取得會員資料\n",
    "@app.route(\"/members\")\n",
    "@app.route(\"/members/<id>\",methods = ['GET'])\n",
    "#使用 Flask 操作 MongoDB - 取得GET\n",
    "def get_member(id = None):\n",
    "    #如果沒有id，取得所有會員資料\n",
    "    if id is None:\n",
    "        members = mongo.db.member.find({})\n",
    "        result = []\n",
    "        for m in members:\n",
    "            m['_id'] = str(m['_id'])\n",
    "            result.append(m)\n",
    "        return jsonify(result)\n",
    "    else:\n",
    "        result = mongo.db.member.find_one({'_id':ObjectId(id)})\n",
    "        if result is not None:\n",
    "            result['_id'] = str(result['_id']) #回傳id為ObjectId型別轉換str\n",
    "        return jsonify(result)\n",
    "\n",
    "#使用 Flask 操作 MongoDB - 新增POST一筆資料  \n",
    "@app.route('/members', methods = ['POST'])\n",
    "def add_member():\n",
    "    name = request.form.get('name')\n",
    "    phone = request.form.get('phone')\n",
    "    email = request.form.get('email')\n",
    "    result = mongo.db.member.insert_one({'name':name, 'phone':phone, 'email':email})\n",
    "    return str(result.inserted_id)\n",
    "\n",
    "#使用 Flask 操作 MongoDB - 刪除DELETE一筆資料\n",
    "@app.route('/members/<id>', methods = ['DELETE'])\n",
    "def remove_member(id):\n",
    "    #先確認db內是否有資料\n",
    "    m = mongo.db.member.find({'_id':ObjectId(id)})\n",
    "    if m is not None:\n",
    "        result = mongo.db.member.delete_one({'_id':ObjectId(id)})\n",
    "    return 'The number of deleted data:' + str(result.deleted_count)\n",
    "\n",
    "#使用 Flask 操作 MongoDB - 修改PUT一筆資料\n",
    "@app.route(\"/members/<id>\", methods = ['PUT'])\n",
    "def update_member(id):\n",
    "    result = 0\n",
    "    #從form裡面取出資料\n",
    "    name = request.form.get('name')\n",
    "    phone = request.form.get('phone')\n",
    "    email = request.form.get('email')\n",
    "    #把新的資料用 dict 型別包裝\n",
    "    new_data = {\"$set\":{\"name\":name, \"phone\":phone, \"email\":email}}\n",
    "    #用update_one更新一筆資料，若要更新多筆可用update_many\n",
    "    upd_result=mongo.db.member.update_one({\"_id\": ObjectId(id)}, new_data)\n",
    "    if upd_result is not None:\n",
    "        return 'The number of updated data:' + str(upd_result.modified_count)\n",
    "    \n",
    "if __name__ == '__main__':\n",
    "    app.run()"
   ]
  },
  {
   "cell_type": "code",
   "execution_count": null,
   "metadata": {},
   "outputs": [],
   "source": []
  }
 ],
 "metadata": {
  "kernelspec": {
   "display_name": "Python 3",
   "language": "python",
   "name": "python3"
  },
  "language_info": {
   "codemirror_mode": {
    "name": "ipython",
    "version": 3
   },
   "file_extension": ".py",
   "mimetype": "text/x-python",
   "name": "python",
   "nbconvert_exporter": "python",
   "pygments_lexer": "ipython3",
   "version": "3.7.4"
  }
 },
 "nbformat": 4,
 "nbformat_minor": 2
}
