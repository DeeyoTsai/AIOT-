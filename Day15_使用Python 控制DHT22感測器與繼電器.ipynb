{
 "cells": [
  {
   "cell_type": "markdown",
   "id": "renewable-collector",
   "metadata": {},
   "source": [
    "### 作業1：\n",
    "練習將 DHT22 接於 GPIO 27 接腳，並且更改軟體的接腳設定值，重新執行範例程式，驗證在不同的接腳上安裝 DHT22，程式一樣可以正確地讀出數值。"
   ]
  },
  {
   "cell_type": "code",
   "execution_count": 3,
   "id": "architectural-pastor",
   "metadata": {},
   "outputs": [
    {
     "name": "stdout",
     "output_type": "stream",
     "text": [
      "Temp=24.2*C Humidity=61.1%\n",
      "Temp=24.2*C Humidity=61.1%\n",
      "Temp=24.2*C Humidity=61.1%\n",
      "Temp=24.2*C Humidity=61.1%\n",
      "Temp=24.2*C Humidity=61.0%\n",
      "Temp=24.2*C Humidity=61.1%\n"
     ]
    }
   ],
   "source": [
    "import Adafruit_DHT  \n",
    "DHT_SENSOR = Adafruit_DHT.DHT22 # 感測器為DHT22\n",
    "DHT_PIN = 27   #設定DHT22 Data接線的接腳位置\n",
    "try:\n",
    "    while True:\n",
    "        humidity, temperature = Adafruit_DHT.read_retry(DHT_SENSOR, DHT_PIN)\n",
    "        if humidity is not None and temperature is not None:\n",
    "            print(\"Temp={0:0.1f}*C Humidity={1:0.1f}%\".format(temperature, humidity))\n",
    "        else:\n",
    "            print(\"Failed to retrieve data from humidity sensor\")\n",
    "except KeyboardInterrupt:\n",
    "    pass"
   ]
  },
  {
   "cell_type": "code",
   "execution_count": 7,
   "id": "neither-emerald",
   "metadata": {},
   "outputs": [
    {
     "name": "stdout",
     "output_type": "stream",
     "text": [
      "Temp=24.3*C Humidity=57.0%\n",
      "Temp=24.3*C Humidity=56.1%\n",
      "Temp=24.3*C Humidity=63.7%\n",
      "Temp=24.4*C Humidity=86.7%\n",
      "Temp=25.0*C Humidity=99.9%\n",
      "Temp=25.0*C Humidity=99.9%\n",
      "Temp=24.9*C Humidity=99.9%\n",
      "Temp=25.0*C Humidity=99.9%\n"
     ]
    }
   ],
   "source": [
    "import Adafruit_DHT  \n",
    "DHT_SENSOR = Adafruit_DHT.DHT22 # 感測器為DHT22\n",
    "DHT_PIN = 22   #設定DHT22 Data接線的接腳位置\n",
    "try:\n",
    "    while True:\n",
    "        humidity, temperature = Adafruit_DHT.read_retry(DHT_SENSOR, DHT_PIN)\n",
    "        if humidity is not None and temperature is not None:\n",
    "            print(\"Temp={0:0.1f}*C Humidity={1:0.1f}%\".format(temperature, humidity))\n",
    "        else:\n",
    "            print(\"Failed to retrieve data from humidity sensor\")\n",
    "except KeyboardInterrupt:\n",
    "    pass"
   ]
  },
  {
   "cell_type": "markdown",
   "id": "bound-dover",
   "metadata": {},
   "source": [
    "### 作業2：\n",
    "觀察 RPi.GPIO 的程式碼，與 GPIOZero 程式碼對於繼電器控制上寫法的不同，如果我們要設定 GPIO 26, 19, 13, 6 四個接腳控制一個四路繼電器，練習實作一個 GPIOZero 四路繼電器的控制程式。"
   ]
  },
  {
   "cell_type": "code",
   "execution_count": 10,
   "id": "embedded-marina",
   "metadata": {},
   "outputs": [],
   "source": [
    "import RPi.GPIO as GPIO\n",
    "from time import sleep\n",
    "relay_pin1 = 26\n",
    "relay_pin2 = 19\n",
    "relay_pin3 = 13\n",
    "relay_pin4 = 6\n",
    "GPIO.setmode(GPIO.BCM)\n",
    "GPIO.setup(relay_pin1,GPIO.OUT)\n",
    "GPIO.output(relay_pin1,1)\n",
    "\n",
    "GPIO.setup(relay_pin2,GPIO.OUT)\n",
    "GPIO.output(relay_pin2,1)\n",
    "\n",
    "GPIO.setup(relay_pin3,GPIO.OUT)\n",
    "GPIO.output(relay_pin3,1)\n",
    "\n",
    "GPIO.setup(relay_pin4,GPIO.OUT)\n",
    "GPIO.output(relay_pin4,1)"
   ]
  },
  {
   "cell_type": "code",
   "execution_count": 11,
   "id": "tender-metabolism",
   "metadata": {},
   "outputs": [],
   "source": [
    "import gpiozero"
   ]
  },
  {
   "cell_type": "code",
   "execution_count": 12,
   "id": "terminal-complex",
   "metadata": {},
   "outputs": [
    {
     "data": {
      "text/plain": [
       "<bound method OutputDevice.on of <gpiozero.OutputDevice object on pin GPIO6, active_high=False, is_active=False>>"
      ]
     },
     "execution_count": 12,
     "metadata": {},
     "output_type": "execute_result"
    }
   ],
   "source": [
    "relay_pin1 = 26\n",
    "relay_pin2 = 19\n",
    "relay_pin3 = 13\n",
    "relay_pin4 = 6\n",
    "relay1 = gpiozero.OutputDevice(relay_pin1,active_high=False,initial_value=False)\n",
    "relay2 = gpiozero.OutputDevice(relay_pin2,active_high=False,initial_value=False)\n",
    "relay3 = gpiozero.OutputDevice(relay_pin3,active_high=False,initial_value=False)\n",
    "relay4 = gpiozero.OutputDevice(relay_pin4,active_high=False,initial_value=False)\n",
    "relay1.on\n",
    "relay2.on\n",
    "relay3.on\n",
    "relay4.on"
   ]
  },
  {
   "cell_type": "markdown",
   "id": "painted-assumption",
   "metadata": {},
   "source": [
    "### 作業3：\n",
    "作業 1 與作業 2 結合，設定程式在溫度 10 度以下，打開 GPIO26，溫度 10 度以上到 20 度之間，控制 GPIO19，溫度 20 度到 30 度之間，控制 GPIO13，溫度在 30 度以上，控制 GPIO6，達成在不同的溫度區間時，控制不同的繼電器的需求。"
   ]
  },
  {
   "cell_type": "code",
   "execution_count": 1,
   "id": "legal-gathering",
   "metadata": {},
   "outputs": [
    {
     "name": "stdout",
     "output_type": "stream",
     "text": [
      "Temp = 24.200000762939453,Humidity = 61.0\n",
      "GPIO13 ON!!\n",
      "Temp = 24.299999237060547,Humidity = 61.099998474121094\n",
      "GPIO13 ON!!\n",
      "Temp = 24.200000762939453,Humidity = 61.099998474121094\n",
      "GPIO13 ON!!\n"
     ]
    }
   ],
   "source": [
    "import Adafruit_DHT\n",
    "from time import sleep\n",
    "import gpiozero\n",
    "\n",
    "DHT_SENSOR = Adafruit_DHT.DHT22\n",
    "DHT_PIN = 22\n",
    "\n",
    "relay_pin1 = 26\n",
    "relay_pin2 = 19\n",
    "relay_pin3 = 13\n",
    "relay_pin4 = 6\n",
    "relay1 = gpiozero.OutputDevice(relay_pin1,active_high=False,initial_value=False)\n",
    "relay2 = gpiozero.OutputDevice(relay_pin2,active_high=False,initial_value=False)\n",
    "relay3 = gpiozero.OutputDevice(relay_pin3,active_high=False,initial_value=False)\n",
    "relay4 = gpiozero.OutputDevice(relay_pin4,active_high=False,initial_value=False)\n",
    "try:\n",
    "    while True:\n",
    "        humidity,temperature = Adafruit_DHT.read_retry(DHT_SENSOR,DHT_PIN)\n",
    "        if humidity is not None and temperature is not None:\n",
    "            print(f\"Temp = {temperature},Humidity = {humidity}\")\n",
    "            if temperature <= 10:\n",
    "                relay1.on\n",
    "                relay2.off\n",
    "                relay3.off\n",
    "                relay4.off\n",
    "                print(\"GPIO26 ON!!\")\n",
    "            elif temperature > 10 and temperature <= 20:\n",
    "                relay1.off\n",
    "                relay2.on\n",
    "                relay3.off\n",
    "                relay4.off\n",
    "                print(\"GPIO19 ON!!\")\n",
    "            elif temperature > 20 and temperature < 30:\n",
    "                relay1.off\n",
    "                relay2.off\n",
    "                relay3.on\n",
    "                relay4.off\n",
    "                print(\"GPIO13 ON!!\")\n",
    "            else:\n",
    "                relay1.off\n",
    "                relay2.off\n",
    "                relay3.off\n",
    "                relay4.on\n",
    "                print(\"GPIO6 ON!!\")\n",
    "            sleep(5)\n",
    "except KeyboardInterrupt:\n",
    "    pass"
   ]
  },
  {
   "cell_type": "code",
   "execution_count": null,
   "id": "injured-rwanda",
   "metadata": {},
   "outputs": [],
   "source": []
  }
 ],
 "metadata": {
  "kernelspec": {
   "display_name": "Python 3",
   "language": "python",
   "name": "python3"
  },
  "language_info": {
   "codemirror_mode": {
    "name": "ipython",
    "version": 3
   },
   "file_extension": ".py",
   "mimetype": "text/x-python",
   "name": "python",
   "nbconvert_exporter": "python",
   "pygments_lexer": "ipython3",
   "version": "3.7.3"
  }
 },
 "nbformat": 4,
 "nbformat_minor": 5
}
